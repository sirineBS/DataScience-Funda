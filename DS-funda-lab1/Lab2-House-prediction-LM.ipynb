{
 "cells": [
  {
   "cell_type": "markdown",
   "metadata": {},
   "source": [
    "<img src='images/logo_avanade.png' style=\"width:60%;height:60%;\">"
   ]
  },
  {
   "cell_type": "markdown",
   "metadata": {},
   "source": [
    "# **Data Science Fundamentals Training (06|04|2021)**\n",
    "\n",
    "## **Lab 2: Prediction of House prices using a Machine Learning Linear Model**"
   ]
  },
  {
   "cell_type": "markdown",
   "metadata": {},
   "source": [
    "## Step1- Import the required libraries"
   ]
  },
  {
   "cell_type": "code",
   "execution_count": 95,
   "metadata": {},
   "outputs": [],
   "source": [
    "import pandas as pd\n",
    "%matplotlib inline\n",
    "import seaborn as sns\n",
    "import matplotlib.pyplot as plt\n",
    "\n",
    "#used in correlation\n",
    "import scipy.stats as ss\n",
    "import numpy as np\n",
    "import itertools\n",
    "\n",
    "from sklearn.model_selection import train_test_split\n",
    "\n",
    "from sklearn.linear_model import LinearRegression\n",
    "from sklearn.metrics import mean_squared_error as mse\n",
    "from sklearn.linear_model import Ridge\n",
    "from sklearn.preprocessing import StandardScaler\n",
    "from sklearn.preprocessing import MinMaxScaler\n",
    "from sklearn.model_selection import GridSearchCV"
   ]
  },
  {
   "cell_type": "markdown",
   "metadata": {},
   "source": [
    "## Step 2- Load the cleaned version of house price data\n",
    "\n",
    "# Varables :\n",
    "<br>Here's a brief version of what you'll find in the data description file.:\n",
    "<br> **SalePrice** </br> : the property's sale price in dollars. This is the target variable that you're trying to predict.:\n",
    "<br>**MSZoning**: Identifies the general zoning classification of the sale.\n",
    "<br>**GrLivArea**: Above grade (ground) living area square feet.\n",
    "<br>**Utilities**: Type of utilities available.\n",
    "<br>**OverallQual**: Rates the overall material and finish of the house.\n",
    "<br>**YearBuilt**: Original construction date.\n",
    "<br>**TotalBsmtSF**: Total square feet of basement area.\n",
    "<br>**Heating**: Type of heating.\n",
    "<br>**HeatingQC**: Heating quality and condition.\n",
    "<br>**CentralAir**: Central air conditioning.\n",
    "<br>**FullBath**: Full bathrooms above grade.\n",
    "<br>**BedroomAbvGr**: Bedrooms above grade (does NOT include basement bedrooms)\n",
    "<br>**KitchenAbvGr**: Kitchens above grade\n",
    "<br>**GarageCars**: Size of garage in car capacity.\n",
    "<br>**PoolArea**: Pool area in square feet."
   ]
  },
  {
   "cell_type": "code",
   "execution_count": 96,
   "metadata": {},
   "outputs": [
    {
     "name": "stdout",
     "output_type": "stream",
     "text": [
      "   Unnamed: 0 MSZoning  GrLivArea Utilities  OverallQual  YearBuilt  \\\n",
      "0           0       RL       1710    AllPub            7       2003   \n",
      "1           1       RL       1262    AllPub            6       1976   \n",
      "2           2       RL       1786    AllPub            7       2001   \n",
      "\n",
      "   TotalBsmtSF Heating HeatingQC CentralAir  FullBath  BedroomAbvGr  \\\n",
      "0        856.0    GasA        Ex          Y         2             3   \n",
      "1       1262.0    GasA        Ex          Y         2             3   \n",
      "2        920.0    GasA        Ex          Y         2             3   \n",
      "\n",
      "   KitchenAbvGr  GarageCars  PoolArea  SalePrice  SalePrice_log  \n",
      "0             1           2         0     208500      12.247694  \n",
      "1             1           2         0     181500      12.109011  \n",
      "2             1           2         0     223500      12.317167  \n"
     ]
    },
    {
     "data": {
      "text/html": [
       "<div>\n",
       "<style scoped>\n",
       "    .dataframe tbody tr th:only-of-type {\n",
       "        vertical-align: middle;\n",
       "    }\n",
       "\n",
       "    .dataframe tbody tr th {\n",
       "        vertical-align: top;\n",
       "    }\n",
       "\n",
       "    .dataframe thead th {\n",
       "        text-align: right;\n",
       "    }\n",
       "</style>\n",
       "<table border=\"1\" class=\"dataframe\">\n",
       "  <thead>\n",
       "    <tr style=\"text-align: right;\">\n",
       "      <th></th>\n",
       "      <th>count</th>\n",
       "      <th>unique</th>\n",
       "      <th>top</th>\n",
       "      <th>freq</th>\n",
       "      <th>mean</th>\n",
       "      <th>std</th>\n",
       "      <th>min</th>\n",
       "      <th>25%</th>\n",
       "      <th>50%</th>\n",
       "      <th>75%</th>\n",
       "      <th>max</th>\n",
       "    </tr>\n",
       "  </thead>\n",
       "  <tbody>\n",
       "    <tr>\n",
       "      <td>Unnamed: 0</td>\n",
       "      <td>1459</td>\n",
       "      <td>NaN</td>\n",
       "      <td>NaN</td>\n",
       "      <td>NaN</td>\n",
       "      <td>729</td>\n",
       "      <td>421.321</td>\n",
       "      <td>0</td>\n",
       "      <td>364.5</td>\n",
       "      <td>729</td>\n",
       "      <td>1093.5</td>\n",
       "      <td>1458</td>\n",
       "    </tr>\n",
       "    <tr>\n",
       "      <td>MSZoning</td>\n",
       "      <td>1459</td>\n",
       "      <td>5</td>\n",
       "      <td>RL</td>\n",
       "      <td>1150</td>\n",
       "      <td>NaN</td>\n",
       "      <td>NaN</td>\n",
       "      <td>NaN</td>\n",
       "      <td>NaN</td>\n",
       "      <td>NaN</td>\n",
       "      <td>NaN</td>\n",
       "      <td>NaN</td>\n",
       "    </tr>\n",
       "    <tr>\n",
       "      <td>GrLivArea</td>\n",
       "      <td>1459</td>\n",
       "      <td>NaN</td>\n",
       "      <td>NaN</td>\n",
       "      <td>NaN</td>\n",
       "      <td>1515.64</td>\n",
       "      <td>525.617</td>\n",
       "      <td>334</td>\n",
       "      <td>1129</td>\n",
       "      <td>1464</td>\n",
       "      <td>1777.5</td>\n",
       "      <td>5642</td>\n",
       "    </tr>\n",
       "    <tr>\n",
       "      <td>Utilities</td>\n",
       "      <td>1459</td>\n",
       "      <td>2</td>\n",
       "      <td>AllPub</td>\n",
       "      <td>1458</td>\n",
       "      <td>NaN</td>\n",
       "      <td>NaN</td>\n",
       "      <td>NaN</td>\n",
       "      <td>NaN</td>\n",
       "      <td>NaN</td>\n",
       "      <td>NaN</td>\n",
       "      <td>NaN</td>\n",
       "    </tr>\n",
       "    <tr>\n",
       "      <td>OverallQual</td>\n",
       "      <td>1459</td>\n",
       "      <td>NaN</td>\n",
       "      <td>NaN</td>\n",
       "      <td>NaN</td>\n",
       "      <td>6.10007</td>\n",
       "      <td>1.38317</td>\n",
       "      <td>1</td>\n",
       "      <td>5</td>\n",
       "      <td>6</td>\n",
       "      <td>7</td>\n",
       "      <td>10</td>\n",
       "    </tr>\n",
       "    <tr>\n",
       "      <td>YearBuilt</td>\n",
       "      <td>1459</td>\n",
       "      <td>NaN</td>\n",
       "      <td>NaN</td>\n",
       "      <td>NaN</td>\n",
       "      <td>1971.27</td>\n",
       "      <td>30.2128</td>\n",
       "      <td>1872</td>\n",
       "      <td>1954</td>\n",
       "      <td>1973</td>\n",
       "      <td>2000</td>\n",
       "      <td>2010</td>\n",
       "    </tr>\n",
       "    <tr>\n",
       "      <td>TotalBsmtSF</td>\n",
       "      <td>1459</td>\n",
       "      <td>NaN</td>\n",
       "      <td>NaN</td>\n",
       "      <td>NaN</td>\n",
       "      <td>1056.48</td>\n",
       "      <td>434.335</td>\n",
       "      <td>0</td>\n",
       "      <td>799</td>\n",
       "      <td>1008</td>\n",
       "      <td>1277.5</td>\n",
       "      <td>6110</td>\n",
       "    </tr>\n",
       "    <tr>\n",
       "      <td>Heating</td>\n",
       "      <td>1459</td>\n",
       "      <td>6</td>\n",
       "      <td>GasA</td>\n",
       "      <td>1427</td>\n",
       "      <td>NaN</td>\n",
       "      <td>NaN</td>\n",
       "      <td>NaN</td>\n",
       "      <td>NaN</td>\n",
       "      <td>NaN</td>\n",
       "      <td>NaN</td>\n",
       "      <td>NaN</td>\n",
       "    </tr>\n",
       "    <tr>\n",
       "      <td>HeatingQC</td>\n",
       "      <td>1459</td>\n",
       "      <td>5</td>\n",
       "      <td>Ex</td>\n",
       "      <td>782</td>\n",
       "      <td>NaN</td>\n",
       "      <td>NaN</td>\n",
       "      <td>NaN</td>\n",
       "      <td>NaN</td>\n",
       "      <td>NaN</td>\n",
       "      <td>NaN</td>\n",
       "      <td>NaN</td>\n",
       "    </tr>\n",
       "    <tr>\n",
       "      <td>CentralAir</td>\n",
       "      <td>1459</td>\n",
       "      <td>2</td>\n",
       "      <td>Y</td>\n",
       "      <td>1364</td>\n",
       "      <td>NaN</td>\n",
       "      <td>NaN</td>\n",
       "      <td>NaN</td>\n",
       "      <td>NaN</td>\n",
       "      <td>NaN</td>\n",
       "      <td>NaN</td>\n",
       "      <td>NaN</td>\n",
       "    </tr>\n",
       "    <tr>\n",
       "      <td>FullBath</td>\n",
       "      <td>1459</td>\n",
       "      <td>NaN</td>\n",
       "      <td>NaN</td>\n",
       "      <td>NaN</td>\n",
       "      <td>1.56546</td>\n",
       "      <td>0.550906</td>\n",
       "      <td>0</td>\n",
       "      <td>1</td>\n",
       "      <td>2</td>\n",
       "      <td>2</td>\n",
       "      <td>3</td>\n",
       "    </tr>\n",
       "    <tr>\n",
       "      <td>BedroomAbvGr</td>\n",
       "      <td>1459</td>\n",
       "      <td>NaN</td>\n",
       "      <td>NaN</td>\n",
       "      <td>NaN</td>\n",
       "      <td>2.86635</td>\n",
       "      <td>0.81605</td>\n",
       "      <td>0</td>\n",
       "      <td>2</td>\n",
       "      <td>3</td>\n",
       "      <td>3</td>\n",
       "      <td>8</td>\n",
       "    </tr>\n",
       "    <tr>\n",
       "      <td>KitchenAbvGr</td>\n",
       "      <td>1459</td>\n",
       "      <td>NaN</td>\n",
       "      <td>NaN</td>\n",
       "      <td>NaN</td>\n",
       "      <td>1.04661</td>\n",
       "      <td>0.22041</td>\n",
       "      <td>0</td>\n",
       "      <td>1</td>\n",
       "      <td>1</td>\n",
       "      <td>1</td>\n",
       "      <td>3</td>\n",
       "    </tr>\n",
       "    <tr>\n",
       "      <td>GarageCars</td>\n",
       "      <td>1459</td>\n",
       "      <td>NaN</td>\n",
       "      <td>NaN</td>\n",
       "      <td>NaN</td>\n",
       "      <td>1.76765</td>\n",
       "      <td>0.747301</td>\n",
       "      <td>0</td>\n",
       "      <td>1</td>\n",
       "      <td>2</td>\n",
       "      <td>2</td>\n",
       "      <td>4</td>\n",
       "    </tr>\n",
       "    <tr>\n",
       "      <td>PoolArea</td>\n",
       "      <td>1459</td>\n",
       "      <td>NaN</td>\n",
       "      <td>NaN</td>\n",
       "      <td>NaN</td>\n",
       "      <td>2.7608</td>\n",
       "      <td>40.191</td>\n",
       "      <td>0</td>\n",
       "      <td>0</td>\n",
       "      <td>0</td>\n",
       "      <td>0</td>\n",
       "      <td>738</td>\n",
       "    </tr>\n",
       "    <tr>\n",
       "      <td>SalePrice</td>\n",
       "      <td>1459</td>\n",
       "      <td>NaN</td>\n",
       "      <td>NaN</td>\n",
       "      <td>NaN</td>\n",
       "      <td>180944</td>\n",
       "      <td>79464.9</td>\n",
       "      <td>34900</td>\n",
       "      <td>129950</td>\n",
       "      <td>163000</td>\n",
       "      <td>214000</td>\n",
       "      <td>755000</td>\n",
       "    </tr>\n",
       "    <tr>\n",
       "      <td>SalePrice_log</td>\n",
       "      <td>1459</td>\n",
       "      <td>NaN</td>\n",
       "      <td>NaN</td>\n",
       "      <td>NaN</td>\n",
       "      <td>12.0241</td>\n",
       "      <td>0.399576</td>\n",
       "      <td>10.4602</td>\n",
       "      <td>11.7749</td>\n",
       "      <td>12.0015</td>\n",
       "      <td>12.2737</td>\n",
       "      <td>13.5345</td>\n",
       "    </tr>\n",
       "  </tbody>\n",
       "</table>\n",
       "</div>"
      ],
      "text/plain": [
       "              count unique     top  freq     mean       std      min      25%  \\\n",
       "Unnamed: 0     1459    NaN     NaN   NaN      729   421.321        0    364.5   \n",
       "MSZoning       1459      5      RL  1150      NaN       NaN      NaN      NaN   \n",
       "GrLivArea      1459    NaN     NaN   NaN  1515.64   525.617      334     1129   \n",
       "Utilities      1459      2  AllPub  1458      NaN       NaN      NaN      NaN   \n",
       "OverallQual    1459    NaN     NaN   NaN  6.10007   1.38317        1        5   \n",
       "YearBuilt      1459    NaN     NaN   NaN  1971.27   30.2128     1872     1954   \n",
       "TotalBsmtSF    1459    NaN     NaN   NaN  1056.48   434.335        0      799   \n",
       "Heating        1459      6    GasA  1427      NaN       NaN      NaN      NaN   \n",
       "HeatingQC      1459      5      Ex   782      NaN       NaN      NaN      NaN   \n",
       "CentralAir     1459      2       Y  1364      NaN       NaN      NaN      NaN   \n",
       "FullBath       1459    NaN     NaN   NaN  1.56546  0.550906        0        1   \n",
       "BedroomAbvGr   1459    NaN     NaN   NaN  2.86635   0.81605        0        2   \n",
       "KitchenAbvGr   1459    NaN     NaN   NaN  1.04661   0.22041        0        1   \n",
       "GarageCars     1459    NaN     NaN   NaN  1.76765  0.747301        0        1   \n",
       "PoolArea       1459    NaN     NaN   NaN   2.7608    40.191        0        0   \n",
       "SalePrice      1459    NaN     NaN   NaN   180944   79464.9    34900   129950   \n",
       "SalePrice_log  1459    NaN     NaN   NaN  12.0241  0.399576  10.4602  11.7749   \n",
       "\n",
       "                   50%      75%      max  \n",
       "Unnamed: 0         729   1093.5     1458  \n",
       "MSZoning           NaN      NaN      NaN  \n",
       "GrLivArea         1464   1777.5     5642  \n",
       "Utilities          NaN      NaN      NaN  \n",
       "OverallQual          6        7       10  \n",
       "YearBuilt         1973     2000     2010  \n",
       "TotalBsmtSF       1008   1277.5     6110  \n",
       "Heating            NaN      NaN      NaN  \n",
       "HeatingQC          NaN      NaN      NaN  \n",
       "CentralAir         NaN      NaN      NaN  \n",
       "FullBath             2        2        3  \n",
       "BedroomAbvGr         3        3        8  \n",
       "KitchenAbvGr         1        1        3  \n",
       "GarageCars           2        2        4  \n",
       "PoolArea             0        0      738  \n",
       "SalePrice       163000   214000   755000  \n",
       "SalePrice_log  12.0015  12.2737  13.5345  "
      ]
     },
     "execution_count": 96,
     "metadata": {},
     "output_type": "execute_result"
    }
   ],
   "source": [
    "# !!!Always check the data you are loading!!! when saving the csv file, use the option  index = False if needed.\n",
    "# house_price_data = pd.read_csv(\"data/house_price_data_cleaned.csv\")\n",
    "\n",
    "house_price_data = pd.read_csv(\"/dbfs/FileStore/house_price_data_cleaned.csv\")\n",
    "\n",
    "print(house_price_data.head(3))\n",
    "\n",
    "house_price_data.describe(include = \"all\").T"
   ]
  },
  {
   "cell_type": "code",
   "execution_count": 97,
   "metadata": {},
   "outputs": [
    {
     "data": {
      "text/html": [
       "<div>\n",
       "<style scoped>\n",
       "    .dataframe tbody tr th:only-of-type {\n",
       "        vertical-align: middle;\n",
       "    }\n",
       "\n",
       "    .dataframe tbody tr th {\n",
       "        vertical-align: top;\n",
       "    }\n",
       "\n",
       "    .dataframe thead th {\n",
       "        text-align: right;\n",
       "    }\n",
       "</style>\n",
       "<table border=\"1\" class=\"dataframe\">\n",
       "  <thead>\n",
       "    <tr style=\"text-align: right;\">\n",
       "      <th></th>\n",
       "      <th>MSZoning</th>\n",
       "      <th>GrLivArea</th>\n",
       "      <th>Utilities</th>\n",
       "      <th>OverallQual</th>\n",
       "      <th>YearBuilt</th>\n",
       "      <th>TotalBsmtSF</th>\n",
       "      <th>Heating</th>\n",
       "      <th>HeatingQC</th>\n",
       "      <th>CentralAir</th>\n",
       "      <th>FullBath</th>\n",
       "      <th>BedroomAbvGr</th>\n",
       "      <th>KitchenAbvGr</th>\n",
       "      <th>GarageCars</th>\n",
       "      <th>PoolArea</th>\n",
       "      <th>SalePrice</th>\n",
       "      <th>SalePrice_log</th>\n",
       "    </tr>\n",
       "  </thead>\n",
       "  <tbody>\n",
       "    <tr>\n",
       "      <td>0</td>\n",
       "      <td>RL</td>\n",
       "      <td>1710</td>\n",
       "      <td>AllPub</td>\n",
       "      <td>7</td>\n",
       "      <td>2003</td>\n",
       "      <td>856.0</td>\n",
       "      <td>GasA</td>\n",
       "      <td>Ex</td>\n",
       "      <td>Y</td>\n",
       "      <td>2</td>\n",
       "      <td>3</td>\n",
       "      <td>1</td>\n",
       "      <td>2</td>\n",
       "      <td>0</td>\n",
       "      <td>208500</td>\n",
       "      <td>12.247694</td>\n",
       "    </tr>\n",
       "    <tr>\n",
       "      <td>1</td>\n",
       "      <td>RL</td>\n",
       "      <td>1262</td>\n",
       "      <td>AllPub</td>\n",
       "      <td>6</td>\n",
       "      <td>1976</td>\n",
       "      <td>1262.0</td>\n",
       "      <td>GasA</td>\n",
       "      <td>Ex</td>\n",
       "      <td>Y</td>\n",
       "      <td>2</td>\n",
       "      <td>3</td>\n",
       "      <td>1</td>\n",
       "      <td>2</td>\n",
       "      <td>0</td>\n",
       "      <td>181500</td>\n",
       "      <td>12.109011</td>\n",
       "    </tr>\n",
       "    <tr>\n",
       "      <td>2</td>\n",
       "      <td>RL</td>\n",
       "      <td>1786</td>\n",
       "      <td>AllPub</td>\n",
       "      <td>7</td>\n",
       "      <td>2001</td>\n",
       "      <td>920.0</td>\n",
       "      <td>GasA</td>\n",
       "      <td>Ex</td>\n",
       "      <td>Y</td>\n",
       "      <td>2</td>\n",
       "      <td>3</td>\n",
       "      <td>1</td>\n",
       "      <td>2</td>\n",
       "      <td>0</td>\n",
       "      <td>223500</td>\n",
       "      <td>12.317167</td>\n",
       "    </tr>\n",
       "    <tr>\n",
       "      <td>3</td>\n",
       "      <td>RL</td>\n",
       "      <td>1717</td>\n",
       "      <td>AllPub</td>\n",
       "      <td>7</td>\n",
       "      <td>1915</td>\n",
       "      <td>756.0</td>\n",
       "      <td>GasA</td>\n",
       "      <td>Gd</td>\n",
       "      <td>Y</td>\n",
       "      <td>1</td>\n",
       "      <td>3</td>\n",
       "      <td>1</td>\n",
       "      <td>3</td>\n",
       "      <td>0</td>\n",
       "      <td>140000</td>\n",
       "      <td>11.849398</td>\n",
       "    </tr>\n",
       "    <tr>\n",
       "      <td>4</td>\n",
       "      <td>RL</td>\n",
       "      <td>2198</td>\n",
       "      <td>AllPub</td>\n",
       "      <td>8</td>\n",
       "      <td>2000</td>\n",
       "      <td>1145.0</td>\n",
       "      <td>GasA</td>\n",
       "      <td>Ex</td>\n",
       "      <td>Y</td>\n",
       "      <td>2</td>\n",
       "      <td>4</td>\n",
       "      <td>1</td>\n",
       "      <td>3</td>\n",
       "      <td>0</td>\n",
       "      <td>250000</td>\n",
       "      <td>12.429216</td>\n",
       "    </tr>\n",
       "  </tbody>\n",
       "</table>\n",
       "</div>"
      ],
      "text/plain": [
       "  MSZoning  GrLivArea Utilities  OverallQual  YearBuilt  TotalBsmtSF Heating  \\\n",
       "0       RL       1710    AllPub            7       2003        856.0    GasA   \n",
       "1       RL       1262    AllPub            6       1976       1262.0    GasA   \n",
       "2       RL       1786    AllPub            7       2001        920.0    GasA   \n",
       "3       RL       1717    AllPub            7       1915        756.0    GasA   \n",
       "4       RL       2198    AllPub            8       2000       1145.0    GasA   \n",
       "\n",
       "  HeatingQC CentralAir  FullBath  BedroomAbvGr  KitchenAbvGr  GarageCars  \\\n",
       "0        Ex          Y         2             3             1           2   \n",
       "1        Ex          Y         2             3             1           2   \n",
       "2        Ex          Y         2             3             1           2   \n",
       "3        Gd          Y         1             3             1           3   \n",
       "4        Ex          Y         2             4             1           3   \n",
       "\n",
       "   PoolArea  SalePrice  SalePrice_log  \n",
       "0         0     208500      12.247694  \n",
       "1         0     181500      12.109011  \n",
       "2         0     223500      12.317167  \n",
       "3         0     140000      11.849398  \n",
       "4         0     250000      12.429216  "
      ]
     },
     "execution_count": 97,
     "metadata": {},
     "output_type": "execute_result"
    }
   ],
   "source": [
    "## Drop the additional variable\n",
    "house_price_data.drop([\"Unnamed: 0\"], axis = 1, inplace = True)\n",
    "house_price_data.head()"
   ]
  },
  {
   "cell_type": "code",
   "execution_count": 98,
   "metadata": {},
   "outputs": [
    {
     "data": {
      "text/plain": [
       "MSZoning         0\n",
       "GrLivArea        0\n",
       "Utilities        0\n",
       "OverallQual      0\n",
       "YearBuilt        0\n",
       "TotalBsmtSF      0\n",
       "Heating          0\n",
       "HeatingQC        0\n",
       "CentralAir       0\n",
       "FullBath         0\n",
       "BedroomAbvGr     0\n",
       "KitchenAbvGr     0\n",
       "GarageCars       0\n",
       "PoolArea         0\n",
       "SalePrice        0\n",
       "SalePrice_log    0\n",
       "dtype: int64"
      ]
     },
     "execution_count": 98,
     "metadata": {},
     "output_type": "execute_result"
    }
   ],
   "source": [
    "## Check for the missing data\n",
    "house_price_data.isna().sum()"
   ]
  },
  {
   "cell_type": "markdown",
   "metadata": {},
   "source": [
    "## Step3- Check the normally assumption before applying the model\n",
    "\n",
    "#### Remember that the linear model is defined by  \n",
    "$$Y = \\beta_O + \\beta_1X_1 +\\beta_2X_2 + \\beta_3X_3 + \\ldots + \\beta_pX_p + \\epsilon \\ \\ with \\ \\ \\epsilon \\sim \\mathcal{N}(0, \\sigma^2)$$ \n",
    "$Y$ need to be Gaussian to have a consistent estimator of the parameters. You can still fit the linear model on other distributions but the consistency of the parameters estimated will not be guarenteed."
   ]
  },
  {
   "cell_type": "code",
   "execution_count": 99,
   "metadata": {},
   "outputs": [
    {
     "data": {
      "image/png": "[encoded data removed]",
      "text/plain": [
       "<Figure size 432x288 with 1 Axes>"
      ]
     },
     "metadata": {
      "needs_background": "light"
     },
     "output_type": "display_data"
    },
    {
     "data": {
      "image/png": "[encoded data removed]",
      "text/plain": [
       "<Figure size 432x288 with 1 Axes>"
      ]
     },
     "metadata": {
      "needs_background": "light"
     },
     "output_type": "display_data"
    }
   ],
   "source": [
    "plt.figure()\n",
    "sns.distplot(house_price_data[\"SalePrice\"], kde = True, color = 'blue')\n",
    "plt.show()\n",
    "sns.distplot(np.log(house_price_data[\"SalePrice\"]), hist = True, kde = True, color = 'blue')\n",
    "plt.xlabel(\"Log-SalePrice\")\n",
    "plt.show()"
   ]
  },
  {
   "cell_type": "markdown",
   "metadata": {},
   "source": [
    "- **The distribution of our main outcome of interest  SalePrice seems to have a big tail on the right. That is not an acceptable behaviour of a gaussian distribution.**\n",
    "\n",
    "- **The log transformation seems to produce a symetric distribution which has the expected behaviour of a Gaussian distribution.**\n",
    "\n",
    "- **We will then use the log of the SalePrice as our main outcome  for the Linear Regression**"
   ]
  },
  {
   "cell_type": "code",
   "execution_count": 100,
   "metadata": {},
   "outputs": [
    {
     "data": {
      "text/plain": [
       "0"
      ]
     },
     "execution_count": 100,
     "metadata": {},
     "output_type": "execute_result"
    }
   ],
   "source": [
    "house_price_data[\"SalePrice_log\"] = np.log(house_price_data[\"SalePrice\"])\n",
    "house_price_data[\"SalePrice_log\"].isna().sum()"
   ]
  },
  {
   "cell_type": "markdown",
   "metadata": {},
   "source": [
    "## Step 4-1- Build the model on continuous features"
   ]
  },
  {
   "cell_type": "code",
   "execution_count": 101,
   "metadata": {},
   "outputs": [
    {
     "data": {
      "text/plain": [
       "['GrLivArea',\n",
       " 'OverallQual',\n",
       " 'YearBuilt',\n",
       " 'TotalBsmtSF',\n",
       " 'FullBath',\n",
       " 'BedroomAbvGr',\n",
       " 'KitchenAbvGr',\n",
       " 'GarageCars',\n",
       " 'PoolArea']"
      ]
     },
     "execution_count": 101,
     "metadata": {},
     "output_type": "execute_result"
    }
   ],
   "source": [
    "## extract the countinuous features\n",
    "cont_features = [col for col in house_price_data.columns if house_price_data[col].dtype != 'object']\n",
    "cont_features.remove(\"SalePrice_log\")\n",
    "cont_features.remove(\"SalePrice\")\n",
    "cont_features"
   ]
  },
  {
   "cell_type": "markdown",
   "metadata": {},
   "source": [
    "## Scaling the continuous features. The order of magnitude is too big between all the features with a very high level of discrepency.\n",
    "\n",
    "- The StandardScaler is the most used scaling technic which attemp to center the data (the new mean is 0) and the variance is 1\n",
    "$$x_{new} = \\frac{x - \\bar{x}}{\\sigma(x)}$$\n",
    "- The MinMaxScaler is another very usefull scaling technic which attempts to scale the data such that the new data is between a range $left$ and $right$.\n",
    "$$x_{trans} = \\frac{x - \\min(x)}{\\max(x) - \\min(x)}; \\ \\ x_{new} = x_{trans}(right - left) - left$$"
   ]
  },
  {
   "cell_type": "code",
   "execution_count": 102,
   "metadata": {},
   "outputs": [
    {
     "data": {
      "text/plain": [
       "<matplotlib.axes._subplots.AxesSubplot at 0x193b8049e88>"
      ]
     },
     "execution_count": 102,
     "metadata": {},
     "output_type": "execute_result"
    },
    {
     "data": {
      "image/png": "[encoded data removed]",
      "text/plain": [
       "<Figure size 432x288 with 1 Axes>"
      ]
     },
     "metadata": {
      "needs_background": "light"
     },
     "output_type": "display_data"
    },
    {
     "data": {
      "image/png": "[encoded data removed]",
      "text/plain": [
       "<Figure size 432x288 with 1 Axes>"
      ]
     },
     "metadata": {
      "needs_background": "light"
     },
     "output_type": "display_data"
    }
   ],
   "source": [
    "#Get data with continious features only\n",
    "X_cont = house_price_data[cont_features]\n",
    "y = house_price_data['SalePrice']\n",
    "ylog = house_price_data['SalePrice_log']\n",
    "\n",
    "## Scale the data before fitting the model\n",
    "scaler1 = StandardScaler()\n",
    "X_cont_scaled  = pd.DataFrame(scaler1.fit_transform(X_cont), columns = X_cont.columns)\n",
    "X_cont.plot()\n",
    "X_cont_scaled.plot()"
   ]
  },
  {
   "cell_type": "code",
   "execution_count": 103,
   "metadata": {},
   "outputs": [
    {
     "data": {
      "text/plain": [
       "<matplotlib.axes._subplots.AxesSubplot at 0x193b835a288>"
      ]
     },
     "execution_count": 103,
     "metadata": {},
     "output_type": "execute_result"
    },
    {
     "data": {
      "image/png": "[encoded data removed]",
      "text/plain": [
       "<Figure size 432x288 with 1 Axes>"
      ]
     },
     "metadata": {
      "needs_background": "light"
     },
     "output_type": "display_data"
    },
    {
     "data": {
      "image/png": "[encoded data removed]",
      "text/plain": [
       "<Figure size 432x288 with 1 Axes>"
      ]
     },
     "metadata": {
      "needs_background": "light"
     },
     "output_type": "display_data"
    }
   ],
   "source": [
    "#Get data with continious features only\n",
    "X_cont = house_price_data[cont_features]\n",
    "y = house_price_data['SalePrice']\n",
    "ylog = house_price_data['SalePrice_log']\n",
    "\n",
    "## Scale the data before fitting the model\n",
    "scaler2 = MinMaxScaler()\n",
    "X_cont_scaled2  = pd.DataFrame(scaler2.fit_transform(X_cont), columns = X_cont.columns)\n",
    "X_cont.plot()\n",
    "X_cont_scaled2.plot()"
   ]
  },
  {
   "cell_type": "code",
   "execution_count": 104,
   "metadata": {},
   "outputs": [
    {
     "name": "stdout",
     "output_type": "stream",
     "text": [
      "Estimated Coefficients: [ 30954.35141635  24916.28572112   7886.02702552  10897.79949668\n",
      "   -490.13561145  -5651.53095715  -6167.8524088   11129.14250677\n",
      " -10101.00451179]\n",
      "\n",
      "The intercept beta_o: 180087.5005117707\n",
      "The average of the SalesPrice is: 180087.50051177072\n",
      "Root Mean Squared error on Training data :  36650.21976803084\n",
      "Root Mean Squared Error on Testing data :  46296.7116002956\n",
      "Root Mean Squared Error for the Naïve estimator :  86822.79636673271\n"
     ]
    }
   ],
   "source": [
    "#Get data with continuous features only\n",
    "X_cont = house_price_data[cont_features]\n",
    "y = house_price_data['SalePrice']\n",
    "\n",
    "#Split data on training and testing set\n",
    "X_train, X_test, y_train, y_test = train_test_split(X_cont, y, test_size=0.33, random_state=42)\n",
    "\n",
    "## Scale the data before fitting the model\n",
    "scaler1 = StandardScaler()\n",
    "scaler1.fit(X_train)\n",
    "X_train_scaled = scaler1.transform(X_train)\n",
    "Lreg = LinearRegression().fit(X_train_scaled, y_train)\n",
    "\n",
    "## The estimated coefficients:\n",
    "print(\"Estimated Coefficients:\", Lreg.coef_)\n",
    "print('')\n",
    "\n",
    "## Check those two values:\n",
    "print(\"The intercept beta_o:\", Lreg.intercept_)\n",
    "\n",
    "print(\"The average of the SalesPrice is:\", y_train.mean())\n",
    "## \n",
    "\n",
    "#evaluate on training data\n",
    "y_pred_train = Lreg.predict(X_train_scaled)\n",
    "print(\"Root Mean Squared error on Training data : \", np.sqrt(mse(y_pred_train, y_train)))\n",
    "\n",
    "\n",
    "# Inference + evaluation on the testing data\n",
    "y_pred_test = Lreg.predict(scaler1.transform(X_test))\n",
    "print(\"Root Mean Squared Error on Testing data : \", np.sqrt(mse(y_pred_test, y_test)))\n",
    "\n",
    "## \n",
    "print(\"Root Mean Squared Error for the Naïve estimator : \", np.sqrt(np.mean((y_test - y_test.mean())**2)))"
   ]
  },
  {
   "cell_type": "code",
   "execution_count": 105,
   "metadata": {},
   "outputs": [
    {
     "name": "stdout",
     "output_type": "stream",
     "text": [
      "Estimated Coefficients: [ 0.13759436  0.12476071  0.06302989  0.04751427  0.00193815 -0.00070227\n",
      " -0.04175286  0.06923724 -0.04396921]\n",
      "\n",
      "The intercept beta_o: 12.025121346815922\n",
      "The average of the SalesPrice is: 12.025121346815903\n",
      "\n",
      "Root Mean Squared Error on Testing data on the log scale:  0.19936908014001856\n",
      "\n",
      "Root Mean Squared Error on Testing data on the natural scale:  36581.80520749844\n",
      "\n"
     ]
    }
   ],
   "source": [
    "ylog = house_price_data['SalePrice_log']\n",
    "\n",
    "## Split the data into training and testing\n",
    "X_train_log, X_test_log, y_train_log, y_test_log = train_test_split(X_cont, ylog, test_size=0.33, random_state=42)\n",
    "\n",
    "## Scale the data before fitting the model\n",
    "scaler2 = StandardScaler()\n",
    "scaler2.fit(X_train_log)\n",
    "X_train_scaled2 = scaler2.transform(X_train_log)\n",
    "\n",
    "## Fit the linear model on the scaled data with the log of house price as the primary outcome\n",
    "Lreg2 = LinearRegression().fit(X_train_scaled2, y_train_log)\n",
    "\n",
    "## The estimated coefficients:\n",
    "print(\"Estimated Coefficients:\", Lreg2.coef_)\n",
    "print('')\n",
    "## Check those two values:\n",
    "print(\"The intercept beta_o:\", Lreg2.intercept_)\n",
    "\n",
    "print(\"The average of the SalesPrice is:\", y_train_log.mean())\n",
    "## \n",
    "\n",
    "# Inference + evaluation on the testing data\n",
    "y_pred_test_log = Lreg2.predict(scaler2.transform(X_test_log))\n",
    "print('')\n",
    "print(\"Root Mean Squared Error on Testing data on the log scale: \", np.sqrt(mse(y_pred_test_log, y_test_log)))\n",
    "print('')\n",
    "print(\"Root Mean Squared Error on Testing data on the natural scale: \", np.sqrt(mse(np.exp(y_pred_test_log), np.exp(y_test_log))))\n",
    "print('')"
   ]
  },
  {
   "cell_type": "code",
   "execution_count": 106,
   "metadata": {},
   "outputs": [],
   "source": [
    "## Uncomment if you want the result using the MinMaxScaler\n",
    "\n",
    "# ylog = house_price_data['SalePrice_log']\n",
    "\n",
    "## Split the data into training and testing\n",
    "# X_train_log, X_test_log, y_train_log, y_test_log = train_test_split(X_cont, ylog, test_size=0.33, random_state=42)\n",
    "\n",
    "## Scale the data before fitting the model\n",
    "# scaler2 = MinMaxScaler()\n",
    "# scaler2.fit(X_train_log)\n",
    "# X_train_scaled2 = scaler2.transform(X_train_log)\n",
    "\n",
    "## Fit the linear model on the scaled data with the log of house price as the primary outcome\n",
    "# Lreg2 = LinearRegression().fit(X_train_scaled2, y_train_log)\n",
    "\n",
    "# Inference + evaluation on the testing data\n",
    "# y_pred_test_log = Lreg2.predict(scaler2.transform(X_test_log))\n",
    "# print(\"Root Mean Squared Error on Testing data on the log scale: \", np.sqrt(mse(y_pred_test_log, y_test_log)))\n",
    "# print('')\n",
    "# print(\"Root Mean Squared Error on Testing data on the natural scale: \", np.sqrt(mse(np.exp(y_pred_test_log), np.exp(y_test_log))))\n",
    "# print('')"
   ]
  },
  {
   "cell_type": "markdown",
   "metadata": {},
   "source": [
    "## **Primary results and partial take away**\n",
    "- The first model which model the **SalePrice** as the linear combination of the features perform better on the training data as expected based on the RMSE and the generalization error (RMSE on the testing data) is not far away from the training error.\n",
    "\n",
    "- A naïve approach which predict the price in the testing set as the **average price** is almost two times worst... We are begening to see a machine learning impact here.\n",
    "\n",
    "- The last model which consider the **log transformation of the SalePrice** as the primary outcome in the Linear Model is better than the first one as expected since the **normality assumption is fulfilled** in this case. It's always good to know at least few hypothesis underlying the model we are trying to use.\n",
    "\n",
    "- In the next part we will see if we have an improvement of our model by adding categorical features!!! **Stay tuned!**"
   ]
  },
  {
   "cell_type": "markdown",
   "metadata": {},
   "source": [
    "## Step 4-2- Build the model on continuous + categorical features"
   ]
  },
  {
   "cell_type": "code",
   "execution_count": 107,
   "metadata": {},
   "outputs": [
    {
     "data": {
      "text/plain": [
       "['MSZoning', 'Utilities', 'Heating', 'HeatingQC', 'CentralAir']"
      ]
     },
     "execution_count": 107,
     "metadata": {},
     "output_type": "execute_result"
    }
   ],
   "source": [
    "## extract the categorical features\n",
    "cat_features = [col for col in house_price_data.columns if house_price_data[col].dtype == 'object']\n",
    "cat_features"
   ]
  },
  {
   "cell_type": "code",
   "execution_count": 108,
   "metadata": {},
   "outputs": [
    {
     "data": {
      "text/plain": [
       "Index(['MSZoning', 'GrLivArea', 'Utilities', 'OverallQual', 'YearBuilt',\n",
       "       'TotalBsmtSF', 'Heating', 'HeatingQC', 'CentralAir', 'FullBath',\n",
       "       'BedroomAbvGr', 'KitchenAbvGr', 'GarageCars', 'PoolArea',\n",
       "       'SalePrice_log'],\n",
       "      dtype='object')"
      ]
     },
     "execution_count": 108,
     "metadata": {},
     "output_type": "execute_result"
    }
   ],
   "source": [
    "house_price_data_new = house_price_data.copy()\n",
    "house_price_data_new.drop([\"SalePrice\"], axis=1, inplace=True)\n",
    "house_price_data_new.columns"
   ]
  },
  {
   "cell_type": "code",
   "execution_count": 109,
   "metadata": {},
   "outputs": [
    {
     "data": {
      "text/html": [
       "<div>\n",
       "<style scoped>\n",
       "    .dataframe tbody tr th:only-of-type {\n",
       "        vertical-align: middle;\n",
       "    }\n",
       "\n",
       "    .dataframe tbody tr th {\n",
       "        vertical-align: top;\n",
       "    }\n",
       "\n",
       "    .dataframe thead th {\n",
       "        text-align: right;\n",
       "    }\n",
       "</style>\n",
       "<table border=\"1\" class=\"dataframe\">\n",
       "  <thead>\n",
       "    <tr style=\"text-align: right;\">\n",
       "      <th></th>\n",
       "      <th>GrLivArea</th>\n",
       "      <th>OverallQual</th>\n",
       "      <th>YearBuilt</th>\n",
       "      <th>TotalBsmtSF</th>\n",
       "      <th>FullBath</th>\n",
       "      <th>BedroomAbvGr</th>\n",
       "      <th>KitchenAbvGr</th>\n",
       "      <th>GarageCars</th>\n",
       "      <th>PoolArea</th>\n",
       "      <th>SalePrice_log</th>\n",
       "      <th>...</th>\n",
       "      <th>Heating_Grav</th>\n",
       "      <th>Heating_OthW</th>\n",
       "      <th>Heating_Wall</th>\n",
       "      <th>HeatingQC_Ex</th>\n",
       "      <th>HeatingQC_Fa</th>\n",
       "      <th>HeatingQC_Gd</th>\n",
       "      <th>HeatingQC_Po</th>\n",
       "      <th>HeatingQC_TA</th>\n",
       "      <th>CentralAir_N</th>\n",
       "      <th>CentralAir_Y</th>\n",
       "    </tr>\n",
       "  </thead>\n",
       "  <tbody>\n",
       "    <tr>\n",
       "      <td>0</td>\n",
       "      <td>1710</td>\n",
       "      <td>7</td>\n",
       "      <td>2003</td>\n",
       "      <td>856.0</td>\n",
       "      <td>2</td>\n",
       "      <td>3</td>\n",
       "      <td>1</td>\n",
       "      <td>2</td>\n",
       "      <td>0</td>\n",
       "      <td>12.247694</td>\n",
       "      <td>...</td>\n",
       "      <td>0</td>\n",
       "      <td>0</td>\n",
       "      <td>0</td>\n",
       "      <td>1</td>\n",
       "      <td>0</td>\n",
       "      <td>0</td>\n",
       "      <td>0</td>\n",
       "      <td>0</td>\n",
       "      <td>0</td>\n",
       "      <td>1</td>\n",
       "    </tr>\n",
       "    <tr>\n",
       "      <td>1</td>\n",
       "      <td>1262</td>\n",
       "      <td>6</td>\n",
       "      <td>1976</td>\n",
       "      <td>1262.0</td>\n",
       "      <td>2</td>\n",
       "      <td>3</td>\n",
       "      <td>1</td>\n",
       "      <td>2</td>\n",
       "      <td>0</td>\n",
       "      <td>12.109011</td>\n",
       "      <td>...</td>\n",
       "      <td>0</td>\n",
       "      <td>0</td>\n",
       "      <td>0</td>\n",
       "      <td>1</td>\n",
       "      <td>0</td>\n",
       "      <td>0</td>\n",
       "      <td>0</td>\n",
       "      <td>0</td>\n",
       "      <td>0</td>\n",
       "      <td>1</td>\n",
       "    </tr>\n",
       "    <tr>\n",
       "      <td>2</td>\n",
       "      <td>1786</td>\n",
       "      <td>7</td>\n",
       "      <td>2001</td>\n",
       "      <td>920.0</td>\n",
       "      <td>2</td>\n",
       "      <td>3</td>\n",
       "      <td>1</td>\n",
       "      <td>2</td>\n",
       "      <td>0</td>\n",
       "      <td>12.317167</td>\n",
       "      <td>...</td>\n",
       "      <td>0</td>\n",
       "      <td>0</td>\n",
       "      <td>0</td>\n",
       "      <td>1</td>\n",
       "      <td>0</td>\n",
       "      <td>0</td>\n",
       "      <td>0</td>\n",
       "      <td>0</td>\n",
       "      <td>0</td>\n",
       "      <td>1</td>\n",
       "    </tr>\n",
       "    <tr>\n",
       "      <td>3</td>\n",
       "      <td>1717</td>\n",
       "      <td>7</td>\n",
       "      <td>1915</td>\n",
       "      <td>756.0</td>\n",
       "      <td>1</td>\n",
       "      <td>3</td>\n",
       "      <td>1</td>\n",
       "      <td>3</td>\n",
       "      <td>0</td>\n",
       "      <td>11.849398</td>\n",
       "      <td>...</td>\n",
       "      <td>0</td>\n",
       "      <td>0</td>\n",
       "      <td>0</td>\n",
       "      <td>0</td>\n",
       "      <td>0</td>\n",
       "      <td>1</td>\n",
       "      <td>0</td>\n",
       "      <td>0</td>\n",
       "      <td>0</td>\n",
       "      <td>1</td>\n",
       "    </tr>\n",
       "    <tr>\n",
       "      <td>4</td>\n",
       "      <td>2198</td>\n",
       "      <td>8</td>\n",
       "      <td>2000</td>\n",
       "      <td>1145.0</td>\n",
       "      <td>2</td>\n",
       "      <td>4</td>\n",
       "      <td>1</td>\n",
       "      <td>3</td>\n",
       "      <td>0</td>\n",
       "      <td>12.429216</td>\n",
       "      <td>...</td>\n",
       "      <td>0</td>\n",
       "      <td>0</td>\n",
       "      <td>0</td>\n",
       "      <td>1</td>\n",
       "      <td>0</td>\n",
       "      <td>0</td>\n",
       "      <td>0</td>\n",
       "      <td>0</td>\n",
       "      <td>0</td>\n",
       "      <td>1</td>\n",
       "    </tr>\n",
       "  </tbody>\n",
       "</table>\n",
       "<p>5 rows × 30 columns</p>\n",
       "</div>"
      ],
      "text/plain": [
       "   GrLivArea  OverallQual  YearBuilt  TotalBsmtSF  FullBath  BedroomAbvGr  \\\n",
       "0       1710            7       2003        856.0         2             3   \n",
       "1       1262            6       1976       1262.0         2             3   \n",
       "2       1786            7       2001        920.0         2             3   \n",
       "3       1717            7       1915        756.0         1             3   \n",
       "4       2198            8       2000       1145.0         2             4   \n",
       "\n",
       "   KitchenAbvGr  GarageCars  PoolArea  SalePrice_log  ...  Heating_Grav  \\\n",
       "0             1           2         0      12.247694  ...             0   \n",
       "1             1           2         0      12.109011  ...             0   \n",
       "2             1           2         0      12.317167  ...             0   \n",
       "3             1           3         0      11.849398  ...             0   \n",
       "4             1           3         0      12.429216  ...             0   \n",
       "\n",
       "   Heating_OthW  Heating_Wall  HeatingQC_Ex  HeatingQC_Fa  HeatingQC_Gd  \\\n",
       "0             0             0             1             0             0   \n",
       "1             0             0             1             0             0   \n",
       "2             0             0             1             0             0   \n",
       "3             0             0             0             0             1   \n",
       "4             0             0             1             0             0   \n",
       "\n",
       "   HeatingQC_Po  HeatingQC_TA  CentralAir_N  CentralAir_Y  \n",
       "0             0             0             0             1  \n",
       "1             0             0             0             1  \n",
       "2             0             0             0             1  \n",
       "3             0             0             0             1  \n",
       "4             0             0             0             1  \n",
       "\n",
       "[5 rows x 30 columns]"
      ]
     },
     "execution_count": 109,
     "metadata": {},
     "output_type": "execute_result"
    }
   ],
   "source": [
    "## Transform the categorical covariates into 0-1 variables\n",
    "house_price_data_dummy = pd.get_dummies(house_price_data_new, columns = cat_features, drop_first = False)\n",
    "house_price_data_dummy.head()"
   ]
  },
  {
   "cell_type": "code",
   "execution_count": 110,
   "metadata": {},
   "outputs": [
    {
     "name": "stdout",
     "output_type": "stream",
     "text": [
      "Root Mean Squared Error on Testing data on the log scale:  0.18491691411044445\n",
      "\n",
      "Root Mean Squared Error on Testing data on the natural scale:  36359.47159089886\n",
      "\n"
     ]
    }
   ],
   "source": [
    "ylog = house_price_data_dummy['SalePrice_log']\n",
    "X_cont_cat = house_price_data_dummy['SalePrice_log']\n",
    "## Split the data into training and testing\n",
    "X_train_log, X_test_log, y_train_log, y_test_log = train_test_split(\n",
    "    house_price_data_dummy.drop(columns=['SalePrice_log']), house_price_data_dummy['SalePrice_log'], test_size=0.33, random_state=42)\n",
    "\n",
    "## Scale the data before fitting the model\n",
    "scaler2 = MinMaxScaler()\n",
    "scaler2.fit(X_train_log)\n",
    "X_train_scaled2 = scaler2.transform(X_train_log)\n",
    "\n",
    "## Fit the linear model on the scaled data with the log of house price as the primary outcome\n",
    "Lreg2 = LinearRegression().fit(X_train_scaled2, y_train_log)\n",
    "\n",
    "# Inference + evaluation on the testing data\n",
    "y_pred_test_log = Lreg2.predict(scaler2.transform(X_test_log))\n",
    "print(\"Root Mean Squared Error on Testing data on the log scale: \", np.sqrt(mse(y_pred_test_log, y_test_log)))\n",
    "print('')\n",
    "print(\"Root Mean Squared Error on Testing data on the natural scale: \", np.sqrt(mse(np.exp(y_pred_test_log), np.exp(y_test_log))))\n",
    "print('')"
   ]
  },
  {
   "cell_type": "markdown",
   "metadata": {},
   "source": [
    "## **Global Conclusion**\n",
    "- The added value of categorical covariates were limited for this example \n",
    "- Always remember to drop one variable while using OHE for a linear model, Otherwise you will end up with an overparameterized model.\n",
    "- For the Linear model, always use the MinMaxSaler after one hot encoding because the standard scaling have a side effect of distorting the distribution of the encoded covariates leading to uninterpretable parameters\n",
    "- Hope you enjoyed this application of Linear Model to predict the saleprice of a house."
   ]
  },
  {
   "cell_type": "code",
   "execution_count": 111,
   "metadata": {},
   "outputs": [
    {
     "data": {
      "text/plain": [
       "array([ 1.40362924e+00,  8.45202749e-01,  1.18362318e-01,  5.44964247e-01,\n",
       "        2.20757094e-02, -1.16303568e-01, -2.61628028e-01,  3.58876609e-01,\n",
       "       -7.94627319e-01, -1.73333679e-01,  8.49682117e-02,  3.87197666e-02,\n",
       "        9.19437406e-02, -4.22980403e-02,  7.90560295e-02, -7.90560295e-02,\n",
       "       -1.66533454e-16,  3.81051400e-02,  1.52362824e-01, -2.39191307e-01,\n",
       "       -3.18972528e-02,  8.06205952e-02,  4.62767292e-02, -1.08992759e-03,\n",
       "        3.37527475e-02, -7.81373564e-02, -8.02192766e-04, -6.14770747e-02,\n",
       "        6.14770747e-02])"
      ]
     },
     "execution_count": 111,
     "metadata": {},
     "output_type": "execute_result"
    }
   ],
   "source": [
    "Lreg2.coef_"
   ]
  },
  {
   "cell_type": "code",
   "execution_count": null,
   "metadata": {},
   "outputs": [],
   "source": []
  },
  {
   "cell_type": "code",
   "execution_count": null,
   "metadata": {},
   "outputs": [],
   "source": []
  }
 ],
 "metadata": {
  "kernelspec": {
   "display_name": "Python 3",
   "language": "python",
   "name": "python3"
  },
  "language_info": {
   "codemirror_mode": {
    "name": "ipython",
    "version": 3
   },
   "file_extension": ".py",
   "mimetype": "text/x-python",
   "name": "python",
   "nbconvert_exporter": "python",
   "pygments_lexer": "ipython3",
   "version": "3.7.4"
  }
 },
 "nbformat": 4,
 "nbformat_minor": 2
}
